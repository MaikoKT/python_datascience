# company_name.csvはEDINETから会社名リストを生成します。

import csv

# 企業名を読み込む
company_names = []
with open('company_name.csv', 'r', encoding='utf-8') as file:
    reader = csv.reader(file)
    for row in reader:
        company_names.append(row[0])

# テキストを読み込む
text_content = ""
with open('text.csv', 'r', encoding='utf-8') as file:
    reader = csv.reader(file)
    for row in reader:
        text_content += " ".join(row)

# 企業名の出現頻度を数える
results = [['company_name', 'frequency']]
for name in company_names:
    frequency = text_content.count(name)
    results.append([name, frequency])

# 結果をCSVファイルに出力する
with open('results.csv', 'w', newline='', encoding='utf-8') as file:
    writer = csv.writer(file)
    writer.writerows(results)
