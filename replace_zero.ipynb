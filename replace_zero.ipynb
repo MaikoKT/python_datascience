# 前処理用。CSVファイル中の欠損値に0で代入

import pandas as pd

# ファイルパスを指定
file_path = 'filename.csv'

# CSVファイルの読み込み
data = pd.read_csv(file_path)

# 空欄セルを0で埋める
data.fillna(0, inplace=True)

# 小数点を取り除くために、すべての値を整数に変換
data = data.astype(int)

# 変更を同じCSVファイルに保存
data.to_csv(file_path, index=False)
