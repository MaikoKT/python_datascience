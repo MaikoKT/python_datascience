import pandas as pd

# CSVファイルの読み込み
file_path = 'filename.csv'
data = pd.read_csv(file_path)

# 新しいカラム名を指定。カラムの数だけ書く必要がある。
new_columns = ['newname1', 'newname2']

# カラム名を書き換え
data.columns = new_columns

# 同じ名前のCSVファイルとして保存
data.to_csv(file_path, index=False)
