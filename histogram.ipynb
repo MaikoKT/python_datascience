import pandas as pd

# CSVファイルの読み込み
file_path = 'your_file.csv' # ファイルパス名を入れる
# 度数計算の対象は２列目
data = pd.read_csv(file_path, usecols=[1], names=['Values'])

# 10区切りで階級を設定
bins = range(0, data['Values'].max() + 10, 10)　# 100区切りにする場合は、10, 10 の部分を100, 100にする。
labels = [f'{i}-{i + 9}' for i in bins[:-1]]　#100区切りにする場合は +99に変更する

# 階級区間を割り当て
data['Class Interval'] = pd.cut(data['Values'], bins=bins, right=False, labels=labels)

# 度数の計算
frequency_distribution = data['Class Interval'].value_counts(sort=False).reset_index()
frequency_distribution.columns = ['Class Interval', 'Frequency']

# 階級値の計算
frequency_distribution['Class Value'] = [(int(a) + int(b)) / 2 for a, b in frequency_distribution['Class Interval'].str.split('-')]
# 相対度数の計算
total_frequency = frequency_distribution['Frequency'].sum()
frequency_distribution['Relative Frequency'] = frequency_distribution['Frequency'] / total_frequency

# 累積相対度数の計算
frequency_distribution['Cumulative Relative Frequency'] = frequency_distribution['Relative Frequency'].cumsum()

# カラムの並び替え
frequency_distribution = frequency_distribution[['Class Interval', 'Class Value', 'Frequency', 'Relative Frequency', 'Cumulative Relative Frequency']]

# 結果をCSVファイルに出力
frequency_distribution.to_csv('results.csv', index=False)

# 表の表示
print(frequency_distribution)
