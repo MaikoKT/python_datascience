'''
pandas: CSVファイルの読み込みやデータフレーム操作に使用
matplotlib.pyplot: デンドログラムの描画に使用
scipy.cluster.hierarchy: 階層的クラスタリングの処理に使用
sklearn.preprocessing: データの標準化に使用
'''

from scipy.cluster.hierarchy import fcluster
import pandas as pd
import matplotlib.pyplot as plt
from scipy.cluster.hierarchy import dendrogram, linkage
from sklearn.preprocessing import StandardScaler

# CSVファイルの読み込み
file_path = 'filename.csv'
data = pd.read_csv(file_path)

# 欠損値の処理
data = data.dropna()

# 必要なカラムを選択。好きなだけ追加可
data_to_cluster = data[['col1', 'col2, 'col3']]

# データのスケーリング
scaler = StandardScaler()
scaled_data = scaler.fit_transform(data_to_cluster)

# 階層的クラスタリング
linked = linkage(scaled_data, 'ward')

# クラスタ数の指定。任意。デンドログラムを見て設定。
num_clusters = 3

# クラスタラベルの取得
cluster_labels = fcluster(linked, num_clusters, criterion='maxclust')

# デンドログラムの描画（色分けなし）
plt.figure(figsize=(10, 7))
dendrogram(linked)
plt.title('Hierarchical Clustering Dendrogram')
plt.xlabel('Sample Index')
plt.ylabel('Distance')
plt.show()

# サンプルIDとクラスタ番号のリスト生成
output_data = pd.DataFrame({
    'Sample_ID': data.index,
    'Cluster_Number': cluster_labels
})

# CSVファイルへの出力
output_data.to_csv('cluster_results.csv', index=False)
